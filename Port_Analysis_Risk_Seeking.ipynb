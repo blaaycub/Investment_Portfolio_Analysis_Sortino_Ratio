{
 "cells": [
  {
   "cell_type": "code",
   "execution_count": 56,
   "metadata": {},
   "outputs": [],
   "source": [
    "from pandas_datareader import data\n",
    "from datetime import datetime\n",
    "import pandas as pd\n",
    "import matplotlib.pyplot as plt\n",
    "import numpy as np"
   ]
  },
  {
   "cell_type": "code",
   "execution_count": 57,
   "metadata": {},
   "outputs": [
    {
     "data": {
      "text/html": [
       "<div>\n",
       "<style scoped>\n",
       "    .dataframe tbody tr th:only-of-type {\n",
       "        vertical-align: middle;\n",
       "    }\n",
       "\n",
       "    .dataframe tbody tr th {\n",
       "        vertical-align: top;\n",
       "    }\n",
       "\n",
       "    .dataframe thead th {\n",
       "        text-align: right;\n",
       "    }\n",
       "</style>\n",
       "<table border=\"1\" class=\"dataframe\">\n",
       "  <thead>\n",
       "    <tr style=\"text-align: right;\">\n",
       "      <th></th>\n",
       "      <th>VTWO</th>\n",
       "      <th>VUG</th>\n",
       "      <th>VTI</th>\n",
       "      <th>VXUS</th>\n",
       "      <th>VO</th>\n",
       "    </tr>\n",
       "    <tr>\n",
       "      <th>Date</th>\n",
       "      <th></th>\n",
       "      <th></th>\n",
       "      <th></th>\n",
       "      <th></th>\n",
       "      <th></th>\n",
       "    </tr>\n",
       "  </thead>\n",
       "  <tbody>\n",
       "    <tr>\n",
       "      <th>2016-06-02</th>\n",
       "      <td>0.007199</td>\n",
       "      <td>0.003502</td>\n",
       "      <td>0.003339</td>\n",
       "      <td>0.001978</td>\n",
       "      <td>0.006090</td>\n",
       "    </tr>\n",
       "    <tr>\n",
       "      <th>2016-06-03</th>\n",
       "      <td>-0.006013</td>\n",
       "      <td>-0.002395</td>\n",
       "      <td>-0.002782</td>\n",
       "      <td>0.008963</td>\n",
       "      <td>-0.004564</td>\n",
       "    </tr>\n",
       "    <tr>\n",
       "      <th>2016-06-06</th>\n",
       "      <td>0.011032</td>\n",
       "      <td>0.002670</td>\n",
       "      <td>0.005187</td>\n",
       "      <td>0.007372</td>\n",
       "      <td>0.005443</td>\n",
       "    </tr>\n",
       "    <tr>\n",
       "      <th>2016-06-07</th>\n",
       "      <td>0.002660</td>\n",
       "      <td>0.000736</td>\n",
       "      <td>0.001938</td>\n",
       "      <td>0.008390</td>\n",
       "      <td>0.004937</td>\n",
       "    </tr>\n",
       "    <tr>\n",
       "      <th>2016-06-08</th>\n",
       "      <td>0.007831</td>\n",
       "      <td>0.003486</td>\n",
       "      <td>0.003497</td>\n",
       "      <td>0.003635</td>\n",
       "      <td>0.003331</td>\n",
       "    </tr>\n",
       "    <tr>\n",
       "      <th>...</th>\n",
       "      <td>...</td>\n",
       "      <td>...</td>\n",
       "      <td>...</td>\n",
       "      <td>...</td>\n",
       "      <td>...</td>\n",
       "    </tr>\n",
       "    <tr>\n",
       "      <th>2021-06-01</th>\n",
       "      <td>0.010917</td>\n",
       "      <td>-0.003476</td>\n",
       "      <td>0.000413</td>\n",
       "      <td>0.009440</td>\n",
       "      <td>0.003116</td>\n",
       "    </tr>\n",
       "    <tr>\n",
       "      <th>2021-06-02</th>\n",
       "      <td>0.001085</td>\n",
       "      <td>0.001111</td>\n",
       "      <td>0.001328</td>\n",
       "      <td>0.002235</td>\n",
       "      <td>-0.000341</td>\n",
       "    </tr>\n",
       "    <tr>\n",
       "      <th>2021-06-03</th>\n",
       "      <td>-0.008715</td>\n",
       "      <td>-0.009369</td>\n",
       "      <td>-0.004450</td>\n",
       "      <td>-0.007618</td>\n",
       "      <td>-0.004273</td>\n",
       "    </tr>\n",
       "    <tr>\n",
       "      <th>2021-06-04</th>\n",
       "      <td>0.004367</td>\n",
       "      <td>0.013468</td>\n",
       "      <td>0.008652</td>\n",
       "      <td>0.009551</td>\n",
       "      <td>0.006700</td>\n",
       "    </tr>\n",
       "    <tr>\n",
       "      <th>2021-06-07</th>\n",
       "      <td>0.013632</td>\n",
       "      <td>-0.001830</td>\n",
       "      <td>-0.000205</td>\n",
       "      <td>-0.000180</td>\n",
       "      <td>-0.000766</td>\n",
       "    </tr>\n",
       "  </tbody>\n",
       "</table>\n",
       "<p>1262 rows × 5 columns</p>\n",
       "</div>"
      ],
      "text/plain": [
       "                VTWO       VUG       VTI      VXUS        VO\n",
       "Date                                                        \n",
       "2016-06-02  0.007199  0.003502  0.003339  0.001978  0.006090\n",
       "2016-06-03 -0.006013 -0.002395 -0.002782  0.008963 -0.004564\n",
       "2016-06-06  0.011032  0.002670  0.005187  0.007372  0.005443\n",
       "2016-06-07  0.002660  0.000736  0.001938  0.008390  0.004937\n",
       "2016-06-08  0.007831  0.003486  0.003497  0.003635  0.003331\n",
       "...              ...       ...       ...       ...       ...\n",
       "2021-06-01  0.010917 -0.003476  0.000413  0.009440  0.003116\n",
       "2021-06-02  0.001085  0.001111  0.001328  0.002235 -0.000341\n",
       "2021-06-03 -0.008715 -0.009369 -0.004450 -0.007618 -0.004273\n",
       "2021-06-04  0.004367  0.013468  0.008652  0.009551  0.006700\n",
       "2021-06-07  0.013632 -0.001830 -0.000205 -0.000180 -0.000766\n",
       "\n",
       "[1262 rows x 5 columns]"
      ]
     },
     "execution_count": 57,
     "metadata": {},
     "output_type": "execute_result"
    }
   ],
   "source": [
    "# Establishing Dates\n",
    "start = \"2016-06-01\"\n",
    "end = datetime.today().strftime('%Y-%m-%d')\n",
    "\n",
    "# Establishing Assets\n",
    "assets = ['VTWO', 'VUG', 'VTI', 'VXUS', 'VO']\n",
    "\n",
    "#252 trading days in a year\n",
    "N = 252\n",
    "\n",
    "#1% risk free rate\n",
    "rf =0.02\n",
    "\n",
    "# Creating an empty dataframe\n",
    "df_prices = pd.DataFrame()\n",
    "\n",
    "# Getting the \"Adj Close\" data from Yahoo Finance by defining a function\n",
    "# This function lists the price data as daily percent change \n",
    "# This function also drops the NA first row\n",
    "def YahooData(dataframe, assets_list, start_date, end_date):\n",
    "    for i in assets_list:\n",
    "        dataframe[i] = data.DataReader(i, data_source = \"yahoo\", start=start_date, end=end_date)['Adj Close']\n",
    "    return dataframe\n",
    "\n",
    "# Running the function that we just made and saving the results to the DataFrame\n",
    "df = YahooData(df_prices, assets, start, end)\n",
    "\n",
    "# Calculating Log Return\n",
    "df = np.log(df/df.shift(1))\n",
    "\n",
    "# Dropping the first row because it's N/A\n",
    "df = df.dropna()\n",
    "\n",
    "# Viewing df head\n",
    "df"
   ]
  },
  {
   "cell_type": "code",
   "execution_count": 58,
   "metadata": {},
   "outputs": [
    {
     "data": {
      "text/plain": [
       "array([[0., 0., 0., ..., 0., 0., 0.],\n",
       "       [0., 0., 0., ..., 0., 0., 0.],\n",
       "       [0., 0., 0., ..., 0., 0., 0.],\n",
       "       ...,\n",
       "       [0., 0., 0., ..., 0., 0., 0.],\n",
       "       [0., 0., 0., ..., 0., 0., 0.],\n",
       "       [0., 0., 0., ..., 0., 0., 0.]])"
      ]
     },
     "execution_count": 58,
     "metadata": {},
     "output_type": "execute_result"
    }
   ],
   "source": [
    "# Creating 10000 random simulations of each portfolio weight configuration\n",
    "num_runs = 10000 # number of rows/iterations\n",
    "\n",
    "# Creating a Matrix with 10000 rows, with each row representing a random portfolio:\n",
    "    #first 3 columns are Mean Returns, Standard Deviation, and Sortino Ratio\n",
    "    # remaining columns are each assets random weight within that random portfolio\n",
    "result = np.zeros((num_runs,(len(assets)+5)))\n",
    "result"
   ]
  },
  {
   "cell_type": "code",
   "execution_count": 59,
   "metadata": {},
   "outputs": [],
   "source": [
    "df = df.copy()\n",
    "\n",
    "for i in range(num_runs):\n",
    "    \n",
    "    # randomized weights\n",
    "    weights = np.array(np.random.random(len(assets))) \n",
    "    #Rebalance w/ constraints (SUM of all weights CANNOT BE > 1)\n",
    "    weights = weights/np.sum(weights)\n",
    "    \n",
    "    # daily return of the portfolio based on a given set of weights\n",
    "    df['portfolio_ret'] = df.iloc[:,0]*weights[0]+df.iloc[:,1]*weights[1]+df.iloc[:,2]*weights[2]\n",
    "    \n",
    "    # Calculating Mean\n",
    "    E = df['portfolio_ret'].mean()\n",
    "    # Annualizing Mean\n",
    "    E_AN = E * N\n",
    "    \n",
    "    # Calculating Downside Standard Deviation\n",
    "    mean = E * N -rf\n",
    "    std_neg = df['portfolio_ret'][df['portfolio_ret']<0].std()*np.sqrt(N)\n",
    "    \n",
    "    \n",
    "    # Calculating Upside Standard Deviation\n",
    "    std_pos = df['portfolio_ret'][df['portfolio_ret']>=0].std()*np.sqrt(N)\n",
    "    \n",
    "    # Calculating Volatility Skewness\n",
    "    VS = std_pos/std_neg\n",
    "    \n",
    "    # Sortino\n",
    "    Sortino = mean/std_neg\n",
    "   \n",
    "    # Populating the 'result' array with the required values: Mean, SD, Sharpe followed by the weights                   \n",
    "    result[i,0] = E_AN\n",
    "    result[i,1] = std_neg\n",
    "    result[i,2] = std_pos\n",
    "    result[i,3] = VS\n",
    "    result[i,4] = Sortino\n",
    "    \n",
    "    for j in range(len(assets)):\n",
    "        result[i,j+5]= weights[j]"
   ]
  },
  {
   "cell_type": "code",
   "execution_count": 60,
   "metadata": {},
   "outputs": [
    {
     "data": {
      "text/html": [
       "<div>\n",
       "<style scoped>\n",
       "    .dataframe tbody tr th:only-of-type {\n",
       "        vertical-align: middle;\n",
       "    }\n",
       "\n",
       "    .dataframe tbody tr th {\n",
       "        vertical-align: top;\n",
       "    }\n",
       "\n",
       "    .dataframe thead th {\n",
       "        text-align: right;\n",
       "    }\n",
       "</style>\n",
       "<table border=\"1\" class=\"dataframe\">\n",
       "  <thead>\n",
       "    <tr style=\"text-align: right;\">\n",
       "      <th></th>\n",
       "      <th>Mean</th>\n",
       "      <th>Downside SD</th>\n",
       "      <th>Upside SD</th>\n",
       "      <th>Volatility Skewness</th>\n",
       "      <th>Sortino</th>\n",
       "      <th>VTWO</th>\n",
       "      <th>VUG</th>\n",
       "      <th>VTI</th>\n",
       "      <th>VXUS</th>\n",
       "      <th>VO</th>\n",
       "    </tr>\n",
       "  </thead>\n",
       "  <tbody>\n",
       "    <tr>\n",
       "      <th>0</th>\n",
       "      <td>0.126808</td>\n",
       "      <td>0.148195</td>\n",
       "      <td>0.104337</td>\n",
       "      <td>0.704051</td>\n",
       "      <td>0.720724</td>\n",
       "      <td>0.339438</td>\n",
       "      <td>0.216930</td>\n",
       "      <td>0.206200</td>\n",
       "      <td>0.134607</td>\n",
       "      <td>0.102825</td>\n",
       "    </tr>\n",
       "    <tr>\n",
       "      <th>1</th>\n",
       "      <td>0.111081</td>\n",
       "      <td>0.134539</td>\n",
       "      <td>0.095513</td>\n",
       "      <td>0.709931</td>\n",
       "      <td>0.676988</td>\n",
       "      <td>0.328420</td>\n",
       "      <td>0.073899</td>\n",
       "      <td>0.291568</td>\n",
       "      <td>0.288335</td>\n",
       "      <td>0.017779</td>\n",
       "    </tr>\n",
       "    <tr>\n",
       "      <th>2</th>\n",
       "      <td>0.074000</td>\n",
       "      <td>0.079552</td>\n",
       "      <td>0.056286</td>\n",
       "      <td>0.707543</td>\n",
       "      <td>0.678808</td>\n",
       "      <td>0.128545</td>\n",
       "      <td>0.269601</td>\n",
       "      <td>0.013266</td>\n",
       "      <td>0.245055</td>\n",
       "      <td>0.343533</td>\n",
       "    </tr>\n",
       "    <tr>\n",
       "      <th>3</th>\n",
       "      <td>0.108742</td>\n",
       "      <td>0.113669</td>\n",
       "      <td>0.081933</td>\n",
       "      <td>0.720802</td>\n",
       "      <td>0.780702</td>\n",
       "      <td>0.079860</td>\n",
       "      <td>0.380704</td>\n",
       "      <td>0.141251</td>\n",
       "      <td>0.047098</td>\n",
       "      <td>0.351087</td>\n",
       "    </tr>\n",
       "    <tr>\n",
       "      <th>4</th>\n",
       "      <td>0.061594</td>\n",
       "      <td>0.072968</td>\n",
       "      <td>0.051331</td>\n",
       "      <td>0.703470</td>\n",
       "      <td>0.570036</td>\n",
       "      <td>0.212521</td>\n",
       "      <td>0.127809</td>\n",
       "      <td>0.028005</td>\n",
       "      <td>0.299176</td>\n",
       "      <td>0.332489</td>\n",
       "    </tr>\n",
       "    <tr>\n",
       "      <th>...</th>\n",
       "      <td>...</td>\n",
       "      <td>...</td>\n",
       "      <td>...</td>\n",
       "      <td>...</td>\n",
       "      <td>...</td>\n",
       "      <td>...</td>\n",
       "      <td>...</td>\n",
       "      <td>...</td>\n",
       "      <td>...</td>\n",
       "      <td>...</td>\n",
       "    </tr>\n",
       "    <tr>\n",
       "      <th>9995</th>\n",
       "      <td>0.108247</td>\n",
       "      <td>0.123902</td>\n",
       "      <td>0.087260</td>\n",
       "      <td>0.704269</td>\n",
       "      <td>0.712231</td>\n",
       "      <td>0.224774</td>\n",
       "      <td>0.199310</td>\n",
       "      <td>0.220366</td>\n",
       "      <td>0.181671</td>\n",
       "      <td>0.173879</td>\n",
       "    </tr>\n",
       "    <tr>\n",
       "      <th>9996</th>\n",
       "      <td>0.091441</td>\n",
       "      <td>0.110351</td>\n",
       "      <td>0.078252</td>\n",
       "      <td>0.709124</td>\n",
       "      <td>0.647403</td>\n",
       "      <td>0.245114</td>\n",
       "      <td>0.049557</td>\n",
       "      <td>0.277499</td>\n",
       "      <td>0.108669</td>\n",
       "      <td>0.319161</td>\n",
       "    </tr>\n",
       "    <tr>\n",
       "      <th>9997</th>\n",
       "      <td>0.127092</td>\n",
       "      <td>0.149534</td>\n",
       "      <td>0.105444</td>\n",
       "      <td>0.705149</td>\n",
       "      <td>0.716171</td>\n",
       "      <td>0.320738</td>\n",
       "      <td>0.167774</td>\n",
       "      <td>0.285042</td>\n",
       "      <td>0.020515</td>\n",
       "      <td>0.205932</td>\n",
       "    </tr>\n",
       "    <tr>\n",
       "      <th>9998</th>\n",
       "      <td>0.090583</td>\n",
       "      <td>0.105519</td>\n",
       "      <td>0.075197</td>\n",
       "      <td>0.712637</td>\n",
       "      <td>0.668914</td>\n",
       "      <td>0.138387</td>\n",
       "      <td>0.049464</td>\n",
       "      <td>0.373158</td>\n",
       "      <td>0.287333</td>\n",
       "      <td>0.151658</td>\n",
       "    </tr>\n",
       "    <tr>\n",
       "      <th>9999</th>\n",
       "      <td>0.070562</td>\n",
       "      <td>0.081896</td>\n",
       "      <td>0.057449</td>\n",
       "      <td>0.701489</td>\n",
       "      <td>0.617397</td>\n",
       "      <td>0.186490</td>\n",
       "      <td>0.140469</td>\n",
       "      <td>0.093125</td>\n",
       "      <td>0.286764</td>\n",
       "      <td>0.293152</td>\n",
       "    </tr>\n",
       "  </tbody>\n",
       "</table>\n",
       "<p>10000 rows × 10 columns</p>\n",
       "</div>"
      ],
      "text/plain": [
       "          Mean  Downside SD  Upside SD  Volatility Skewness   Sortino  \\\n",
       "0     0.126808     0.148195   0.104337             0.704051  0.720724   \n",
       "1     0.111081     0.134539   0.095513             0.709931  0.676988   \n",
       "2     0.074000     0.079552   0.056286             0.707543  0.678808   \n",
       "3     0.108742     0.113669   0.081933             0.720802  0.780702   \n",
       "4     0.061594     0.072968   0.051331             0.703470  0.570036   \n",
       "...        ...          ...        ...                  ...       ...   \n",
       "9995  0.108247     0.123902   0.087260             0.704269  0.712231   \n",
       "9996  0.091441     0.110351   0.078252             0.709124  0.647403   \n",
       "9997  0.127092     0.149534   0.105444             0.705149  0.716171   \n",
       "9998  0.090583     0.105519   0.075197             0.712637  0.668914   \n",
       "9999  0.070562     0.081896   0.057449             0.701489  0.617397   \n",
       "\n",
       "          VTWO       VUG       VTI      VXUS        VO  \n",
       "0     0.339438  0.216930  0.206200  0.134607  0.102825  \n",
       "1     0.328420  0.073899  0.291568  0.288335  0.017779  \n",
       "2     0.128545  0.269601  0.013266  0.245055  0.343533  \n",
       "3     0.079860  0.380704  0.141251  0.047098  0.351087  \n",
       "4     0.212521  0.127809  0.028005  0.299176  0.332489  \n",
       "...        ...       ...       ...       ...       ...  \n",
       "9995  0.224774  0.199310  0.220366  0.181671  0.173879  \n",
       "9996  0.245114  0.049557  0.277499  0.108669  0.319161  \n",
       "9997  0.320738  0.167774  0.285042  0.020515  0.205932  \n",
       "9998  0.138387  0.049464  0.373158  0.287333  0.151658  \n",
       "9999  0.186490  0.140469  0.093125  0.286764  0.293152  \n",
       "\n",
       "[10000 rows x 10 columns]"
      ]
     },
     "execution_count": 60,
     "metadata": {},
     "output_type": "execute_result"
    }
   ],
   "source": [
    "# Converting 'result' into a DataFrame\n",
    "\n",
    "columns = ['Mean','Downside SD', 'Upside SD', 'Volatility Skewness', 'Sortino'] + assets\n",
    "\n",
    "result = pd.DataFrame(result,columns=columns)\n",
    "result"
   ]
  },
  {
   "cell_type": "code",
   "execution_count": 61,
   "metadata": {},
   "outputs": [
    {
     "data": {
      "text/plain": [
       "Mean                   0.177130\n",
       "Downside SD            0.180570\n",
       "Upside SD              0.131632\n",
       "Volatility Skewness    0.728981\n",
       "Sortino                0.870188\n",
       "VTWO                   0.077825\n",
       "VUG                    0.708545\n",
       "VTI                    0.172651\n",
       "VXUS                   0.006059\n",
       "VO                     0.034920\n",
       "Name: 2840, dtype: float64"
      ]
     },
     "execution_count": 61,
     "metadata": {},
     "output_type": "execute_result"
    }
   ],
   "source": [
    "Max_Sortino = result.iloc[result['Sortino'].idxmax()]\n",
    "Max_Sortino"
   ]
  },
  {
   "cell_type": "code",
   "execution_count": 62,
   "metadata": {},
   "outputs": [
    {
     "data": {
      "text/plain": [
       "Mean                   0.007619\n",
       "Downside SD            0.009465\n",
       "Upside SD              0.006736\n",
       "Volatility Skewness    0.711601\n",
       "Sortino               -1.308015\n",
       "VTWO                   0.027285\n",
       "VUG                    0.003614\n",
       "VTI                    0.017258\n",
       "VXUS                   0.371646\n",
       "VO                     0.580197\n",
       "Name: 4866, dtype: float64"
      ]
     },
     "execution_count": 62,
     "metadata": {},
     "output_type": "execute_result"
    }
   ],
   "source": [
    "Min_DSD = result.iloc[result['Downside SD'].idxmin()]\n",
    "Min_DSD"
   ]
  },
  {
   "cell_type": "code",
   "execution_count": 63,
   "metadata": {},
   "outputs": [
    {
     "data": {
      "text/plain": [
       "Mean                   0.087795\n",
       "Downside SD            0.100898\n",
       "Upside SD              0.070262\n",
       "Volatility Skewness    0.696365\n",
       "Sortino                0.671913\n",
       "VTWO                   0.261224\n",
       "VUG                    0.247571\n",
       "VTI                    0.000315\n",
       "VXUS                   0.200263\n",
       "VO                     0.290628\n",
       "Name: 3513, dtype: float64"
      ]
     },
     "execution_count": 63,
     "metadata": {},
     "output_type": "execute_result"
    }
   ],
   "source": [
    "min_skew = result.iloc[result['Volatility Skewness'].idxmin()]\n",
    "min_skew"
   ]
  },
  {
   "cell_type": "code",
   "execution_count": 64,
   "metadata": {},
   "outputs": [
    {
     "data": {
      "text/plain": [
       "Mean                   0.125017\n",
       "Downside SD            0.122386\n",
       "Upside SD              0.090690\n",
       "Volatility Skewness    0.741013\n",
       "Sortino                0.858079\n",
       "VTWO                   0.005698\n",
       "VUG                    0.633265\n",
       "VTI                    0.007470\n",
       "VXUS                   0.338306\n",
       "VO                     0.015260\n",
       "Name: 7372, dtype: float64"
      ]
     },
     "execution_count": 64,
     "metadata": {},
     "output_type": "execute_result"
    }
   ],
   "source": [
    "max_skew = result.iloc[result['Volatility Skewness'].idxmax()]\n",
    "max_skew"
   ]
  },
  {
   "cell_type": "code",
   "execution_count": 65,
   "metadata": {},
   "outputs": [
    {
     "data": {
      "text/plain": [
       "Mean                   0.177130\n",
       "Downside SD            0.180570\n",
       "Upside SD              0.131632\n",
       "Volatility Skewness    0.728981\n",
       "Sortino                0.870188\n",
       "VTWO                   0.077825\n",
       "VUG                    0.708545\n",
       "VTI                    0.172651\n",
       "VXUS                   0.006059\n",
       "VO                     0.034920\n",
       "Name: 2840, dtype: float64"
      ]
     },
     "execution_count": 65,
     "metadata": {},
     "output_type": "execute_result"
    }
   ],
   "source": [
    "max_mean = result.iloc[result['Mean'].idxmax()]\n",
    "max_mean"
   ]
  },
  {
   "cell_type": "code",
   "execution_count": 66,
   "metadata": {},
   "outputs": [
    {
     "data": {
      "text/plain": [
       "Mean                   0.153705\n",
       "Downside SD            0.196777\n",
       "Upside SD              0.139936\n",
       "Volatility Skewness    0.711141\n",
       "Sortino                0.679473\n",
       "VTWO                   0.670587\n",
       "VUG                    0.070275\n",
       "VTI                    0.237768\n",
       "VXUS                   0.016402\n",
       "VO                     0.004969\n",
       "Name: 3352, dtype: float64"
      ]
     },
     "execution_count": 66,
     "metadata": {},
     "output_type": "execute_result"
    }
   ],
   "source": [
    "max_UP = result.iloc[result['Upside SD'].idxmax()]\n",
    "max_UP"
   ]
  },
  {
   "cell_type": "code",
   "execution_count": 67,
   "metadata": {},
   "outputs": [
    {
     "data": {
      "text/plain": [
       "Mean                   0.087795\n",
       "Downside SD            0.100898\n",
       "Upside SD              0.070262\n",
       "Volatility Skewness    0.696365\n",
       "Sortino                0.671913\n",
       "VTWO                   0.261224\n",
       "VUG                    0.247571\n",
       "VTI                    0.000315\n",
       "VXUS                   0.200263\n",
       "VO                     0.290628\n",
       "Name: 3513, dtype: float64"
      ]
     },
     "execution_count": 67,
     "metadata": {},
     "output_type": "execute_result"
    }
   ],
   "source": [
    "min_skew = result.iloc[result['Volatility Skewness'].idxmin()]\n",
    "min_skew"
   ]
  },
  {
   "cell_type": "code",
   "execution_count": 68,
   "metadata": {},
   "outputs": [
    {
     "data": {
      "image/png": "[encoded data removed]",
      "text/plain": [
       "<Figure size 864x576 with 2 Axes>"
      ]
     },
     "metadata": {
      "needs_background": "light"
     },
     "output_type": "display_data"
    }
   ],
   "source": [
    "plt.figure(figsize=(12,8))\n",
    "plt.scatter(x=result['Downside SD'],y=result['Mean'],c=result['Sortino'],cmap='viridis')\n",
    "plt.colorbar(label='Sortino Ratio')\n",
    "plt.xlabel('Downside Volatility')\n",
    "plt.ylabel('Return')\n",
    "\n",
    "plt.title('Maximum Sortino Ratio')\n",
    "#Plot a red star to highlight position of the portfolio with highest Sortino Ratio\n",
    "plt.scatter(Max_Sortino[1],Max_Sortino[0],marker=(5,1,0),color='r',s=600)\n",
    "\n",
    "plt.show()"
   ]
  },
  {
   "cell_type": "code",
   "execution_count": null,
   "metadata": {},
   "outputs": [],
   "source": []
  }
 ],
 "metadata": {
  "kernelspec": {
   "display_name": "Python 3",
   "language": "python",
   "name": "python3"
  },
  "language_info": {
   "codemirror_mode": {
    "name": "ipython",
    "version": 3
   },
   "file_extension": ".py",
   "mimetype": "text/x-python",
   "name": "python",
   "nbconvert_exporter": "python",
   "pygments_lexer": "ipython3",
   "version": "3.8.5"
  }
 },
 "nbformat": 4,
 "nbformat_minor": 4
}
